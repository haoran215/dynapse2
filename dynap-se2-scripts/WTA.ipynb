{
 "cells": [
  {
   "cell_type": "code",
   "execution_count": 1,
   "id": "165df175",
   "metadata": {},
   "outputs": [],
   "source": [
    "import itertools\n",
    "import time\n",
    "import sys\n",
    "import os\n",
    "import matplotlib.pyplot as plt\n",
    "sys.path.append(os.getcwd() + '/..')\n",
    "\n",
    "import random\n",
    "import optparse\n",
    "import numpy as np\n",
    "import samna\n",
    "\n",
    "from lib.dynapse2_init     import connect, dynapse2board\n",
    "from samna.dynapse2    import ResetType, BusId\n",
    "from lib.dynapse2_util     import set_dc_latches, clear_srams\n",
    "from lib.dynapse2_obj      import VirtualSpikeConstructor\n",
    "from lib.dynapse2_spikegen import get_fpga_time, send_events\n",
    "from lib.dynapse2_raster   import get_events, plot_raster"
   ]
  },
  {
   "cell_type": "code",
   "execution_count": 3,
   "id": "8f02db08",
   "metadata": {},
   "outputs": [
    {
     "ename": "TypeError",
     "evalue": "samna.SamnaNode: No constructor defined!",
     "output_type": "error",
     "traceback": [
      "\u001b[0;31m---------------------------------------------------------------------------\u001b[0m",
      "\u001b[0;31mTypeError\u001b[0m                                 Traceback (most recent call last)",
      "Cell \u001b[0;32mIn[3], line 16\u001b[0m\n\u001b[1;32m     12\u001b[0m interpreter_id    \u001b[38;5;241m=\u001b[39m \u001b[38;5;241m2\u001b[39m\n\u001b[1;32m     14\u001b[0m \u001b[38;5;66;03m# —————————————————————————————\u001b[39;00m\n\u001b[1;32m     15\u001b[0m \u001b[38;5;66;03m# 2. Instantiate the SamnaNode with required arguments\u001b[39;00m\n\u001b[0;32m---> 16\u001b[0m samna_node \u001b[38;5;241m=\u001b[39m \u001b[43msamna\u001b[49m\u001b[38;5;241;43m.\u001b[39;49m\u001b[43mSamnaNode\u001b[49m\u001b[43m(\u001b[49m\u001b[43msender_endpoint\u001b[49m\u001b[43m,\u001b[49m\u001b[43m \u001b[49m\u001b[43mreceiver_endpoint\u001b[49m\u001b[43m,\u001b[49m\u001b[43m \u001b[49m\u001b[43mnode_id\u001b[49m\u001b[43m)\u001b[49m\n\u001b[1;32m     18\u001b[0m \u001b[38;5;66;03m# —————————————————————————————\u001b[39;00m\n\u001b[1;32m     19\u001b[0m \u001b[38;5;66;03m# 3. Connect; returns a proxy you’ll use to talk to the board\u001b[39;00m\n\u001b[1;32m     20\u001b[0m remote \u001b[38;5;241m=\u001b[39m connect(device,\n\u001b[1;32m     21\u001b[0m                  n_chips,\n\u001b[1;32m     22\u001b[0m                  samna_node,\n\u001b[0;32m   (...)\u001b[0m\n\u001b[1;32m     25\u001b[0m                  node_id,\n\u001b[1;32m     26\u001b[0m                  interpreter_id)      \u001b[38;5;66;03m# :contentReference[oaicite:0]{index=0}\u001b[39;00m\n",
      "\u001b[0;31mTypeError\u001b[0m: samna.SamnaNode: No constructor defined!"
     ]
    }
   ],
   "source": [
    "import samna\n",
    "from lib.dynapse2_init import connect, dynapse2board\n",
    "from types import SimpleNamespace\n",
    "\n",
    "# —————————————————————————————\n",
    "# 1. Your parameters\n",
    "device            = 'stack'             # or 'devboard'\n",
    "n_chips           = 1\n",
    "sender_endpoint   = 'tcp://0.0.0.0:33336'\n",
    "receiver_endpoint = 'tcp://0.0.0.0:33335'\n",
    "node_id           = 1\n",
    "interpreter_id    = 2\n",
    "\n",
    "# —————————————————————————————\n",
    "# 2. Instantiate the SamnaNode with required arguments\n",
    "samna_node = samna.SamnaNode(sender_endpoint, receiver_endpoint, node_id)\n",
    "\n",
    "# —————————————————————————————\n",
    "# 3. Connect; returns a proxy you’ll use to talk to the board\n",
    "remote = connect(device,\n",
    "                 n_chips,\n",
    "                 samna_node,\n",
    "                 sender_endpoint,\n",
    "                 receiver_endpoint,\n",
    "                 node_id,\n",
    "                 interpreter_id)      # :contentReference[oaicite:0]{index=0}\n",
    "\n",
    "# You should see something like:\n",
    "#   Bus 001 Device 005: ID 0403:6010\n",
    "\n",
    "# —————————————————————————————\n",
    "# 4. Wrap it in the Dynapse2Board API\n",
    "opts = SimpleNamespace(device=device)\n",
    "bitfile = './bitfiles/Dynapse2Stack.bit'\n",
    "args    = [bitfile, str(n_chips)]\n",
    "board   = dynapse2board(opts, args, remote)   # :contentReference[oaicite:1]{index=1}\n",
    "\n",
    "# Now you can do things like:\n",
    "model = board.get_model()\n",
    "model.reset(ResetType.PowerCycle, 0b1)\n"
   ]
  },
  {
   "cell_type": "code",
   "execution_count": 8,
   "id": "8cbd13a6",
   "metadata": {},
   "outputs": [
    {
     "ename": "TypeError",
     "evalue": "samna.SamnaNode: No constructor defined!",
     "output_type": "error",
     "traceback": [
      "\u001b[0;31m---------------------------------------------------------------------------\u001b[0m",
      "\u001b[0;31mTypeError\u001b[0m                                 Traceback (most recent call last)",
      "Cell \u001b[0;32mIn[8], line 7\u001b[0m\n\u001b[1;32m      4\u001b[0m opts \u001b[38;5;241m=\u001b[39m Opts()\n\u001b[1;32m      5\u001b[0m args \u001b[38;5;241m=\u001b[39m []\n\u001b[0;32m----> 7\u001b[0m samna_node \u001b[38;5;241m=\u001b[39m \u001b[43msamna\u001b[49m\u001b[38;5;241;43m.\u001b[39;49m\u001b[43mSamnaNode\u001b[49m\u001b[43m(\u001b[49m\u001b[38;5;124;43m\"\u001b[39;49m\u001b[38;5;124;43mtcp://*:33336\u001b[39;49m\u001b[38;5;124;43m\"\u001b[39;49m\u001b[43m,\u001b[49m\u001b[43m \u001b[49m\u001b[38;5;124;43m\"\u001b[39;49m\u001b[38;5;124;43mtcp://*:33335\u001b[39;49m\u001b[38;5;124;43m\"\u001b[39;49m\u001b[43m,\u001b[49m\u001b[43m \u001b[49m\u001b[38;5;241;43m1\u001b[39;49m\u001b[43m)\u001b[49m\n\u001b[1;32m      8\u001b[0m remote     \u001b[38;5;241m=\u001b[39m connect(opts\u001b[38;5;241m.\u001b[39mdevice, \u001b[38;5;241m1\u001b[39m, samna_node,\n\u001b[1;32m      9\u001b[0m                      \u001b[38;5;124m\"\u001b[39m\u001b[38;5;124mtcp://*:33336\u001b[39m\u001b[38;5;124m\"\u001b[39m, \u001b[38;5;124m\"\u001b[39m\u001b[38;5;124mtcp://*:33335\u001b[39m\u001b[38;5;124m\"\u001b[39m, \u001b[38;5;241m1\u001b[39m, \u001b[38;5;241m2\u001b[39m)\n\u001b[1;32m     10\u001b[0m board      \u001b[38;5;241m=\u001b[39m dynapse2board(opts, args, remote)\n",
      "\u001b[0;31mTypeError\u001b[0m: samna.SamnaNode: No constructor defined!"
     ]
    }
   ],
   "source": [
    "# --- 1. Parse args & connect ---\n",
    "class Opts:\n",
    "    device = \"stack\"\n",
    "opts = Opts()\n",
    "args = []\n",
    "\n",
    "samna_node = samna.SamnaNode(\"tcp://*:33336\", \"tcp://*:33335\", 1)\n",
    "remote     = connect(opts.device, 1, samna_node,\n",
    "                     \"tcp://*:33336\", \"tcp://*:33335\", 1, 2)\n",
    "board      = dynapse2board(opts, args, remote)"
   ]
  },
  {
   "cell_type": "code",
   "execution_count": null,
   "id": "e8381dde",
   "metadata": {},
   "outputs": [],
   "source": [
    "# --- 1. Parse args & connect ---\n",
    "class Opts:\n",
    "    device = \"stack\"\n",
    "opts = Opts()\n",
    "args = []\n",
    "\n",
    "samna_node = samna.SamnaNode(\"tcp://*:33336\", \"tcp://*:33335\", 1)\n",
    "remote     = connect(opts.device, 1, samna_node,\n",
    "                     \"tcp://*:33336\", \"tcp://*:33335\", 1, 2)\n",
    "board      = dynapse2board(opts, args, remote)"
   ]
  },
  {
   "cell_type": "code",
   "execution_count": null,
   "id": "ae5e6367",
   "metadata": {},
   "outputs": [],
   "source": [
    "# --- 1. Parse args & connect ---\n",
    "class Opts:\n",
    "    device = \"stack\"\n",
    "opts = Opts()\n",
    "args = []\n",
    "\n",
    "samna_node = samna.SamnaNode(\"tcp://*:33336\", \"tcp://*:33335\", 1)\n",
    "remote     = connect(opts.device, 1, samna_node,\n",
    "                     \"tcp://*:33336\", \"tcp://*:33335\", 1, 2)\n",
    "board      = dynapse2board(opts, args, remote)"
   ]
  },
  {
   "cell_type": "code",
   "execution_count": null,
   "id": "288bce00",
   "metadata": {},
   "outputs": [],
   "source": [
    "# --- 1. Parse args & connect ---\n",
    "class Opts:\n",
    "    device = \"stack\"\n",
    "opts = Opts()\n",
    "args = []\n",
    "\n",
    "samna_node = samna.SamnaNode(\"tcp://*:33336\", \"tcp://*:33335\", 1)\n",
    "remote     = connect(opts.device, 1, samna_node,\n",
    "                     \"tcp://*:33336\", \"tcp://*:33335\", 1, 2)\n",
    "board      = dynapse2board(opts, args, remote)"
   ]
  },
  {
   "cell_type": "code",
   "execution_count": 13,
   "id": "0934e76d",
   "metadata": {},
   "outputs": [
    {
     "ename": "NameError",
     "evalue": "name 'board' is not defined",
     "output_type": "error",
     "traceback": [
      "\u001b[0;31m---------------------------------------------------------------------------\u001b[0m",
      "\u001b[0;31mNameError\u001b[0m                                 Traceback (most recent call last)",
      "Cell \u001b[0;32mIn[13], line 2\u001b[0m\n\u001b[1;32m      1\u001b[0m \u001b[38;5;66;03m# --- 2. Reset & get config ---\u001b[39;00m\n\u001b[0;32m----> 2\u001b[0m model \u001b[38;5;241m=\u001b[39m \u001b[43mboard\u001b[49m\u001b[38;5;241m.\u001b[39mget_model()\n\u001b[1;32m      3\u001b[0m model\u001b[38;5;241m.\u001b[39mreset(ResetType\u001b[38;5;241m.\u001b[39mPowerCycle, \u001b[38;5;241m0b1\u001b[39m)\n\u001b[1;32m      4\u001b[0m time\u001b[38;5;241m.\u001b[39msleep(\u001b[38;5;241m0.1\u001b[39m)\n",
      "\u001b[0;31mNameError\u001b[0m: name 'board' is not defined"
     ]
    }
   ],
   "source": [
    "# --- 2. Reset & get config ---\n",
    "model = board.get_model()\n",
    "model.reset(ResetType.PowerCycle, 0b1)\n",
    "time.sleep(0.1)\n",
    "cfg = model.get_configuration()"
   ]
  },
  {
   "cell_type": "code",
   "execution_count": 14,
   "id": "9034051b",
   "metadata": {},
   "outputs": [
    {
     "ename": "NameError",
     "evalue": "name 'cfg' is not defined",
     "output_type": "error",
     "traceback": [
      "\u001b[0;31m---------------------------------------------------------------------------\u001b[0m",
      "\u001b[0;31mNameError\u001b[0m                                 Traceback (most recent call last)",
      "Cell \u001b[0;32mIn[14], line 3\u001b[0m\n\u001b[1;32m      1\u001b[0m \u001b[38;5;66;03m# --- 3. Monitor neuron #0 on core0, latch DC so it spikes on any input event ---\u001b[39;00m\n\u001b[1;32m      2\u001b[0m core \u001b[38;5;241m=\u001b[39m \u001b[38;5;241m0\u001b[39m; neuron \u001b[38;5;241m=\u001b[39m \u001b[38;5;241m0\u001b[39m\n\u001b[0;32m----> 3\u001b[0m \u001b[43mcfg\u001b[49m\u001b[38;5;241m.\u001b[39mchips[\u001b[38;5;241m0\u001b[39m]\u001b[38;5;241m.\u001b[39mcores[core]\u001b[38;5;241m.\u001b[39mneuron_monitoring_on \u001b[38;5;241m=\u001b[39m \u001b[38;5;28;01mTrue\u001b[39;00m\n\u001b[1;32m      4\u001b[0m cfg\u001b[38;5;241m.\u001b[39mchips[\u001b[38;5;241m0\u001b[39m]\u001b[38;5;241m.\u001b[39mcores[core]\u001b[38;5;241m.\u001b[39mmonitored_neuron   \u001b[38;5;241m=\u001b[39m neuron\n\u001b[1;32m      5\u001b[0m set_dc_latches(cfg, neurons\u001b[38;5;241m=\u001b[39m[neuron], cores\u001b[38;5;241m=\u001b[39m[core])\n",
      "\u001b[0;31mNameError\u001b[0m: name 'cfg' is not defined"
     ]
    }
   ],
   "source": [
    "# --- 3. Monitor neuron #0 on core0, latch DC so it spikes on any input event ---\n",
    "core = 0; neuron = 0\n",
    "cfg.chips[0].cores[core].neuron_monitoring_on = True\n",
    "cfg.chips[0].cores[core].monitored_neuron   = neuron\n",
    "set_dc_latches(cfg, neurons=[neuron], cores=[core])"
   ]
  },
  {
   "cell_type": "code",
   "execution_count": null,
   "id": "14d2ee01",
   "metadata": {},
   "outputs": [],
   "source": [
    "# --- 4. Route neuron0’s axon back to neuron0 via all-to-all SRAM routing ---\n",
    "clear_srams(cfg,\n",
    "            neurons=[neuron],\n",
    "            cores=[core],\n",
    "            chips=[0],\n",
    "            all_to_all=True)\n",
    "model.apply_configuration(cfg)\n",
    "time.sleep(0.1)\n"
   ]
  },
  {
   "cell_type": "code",
   "execution_count": null,
   "id": "5b5c5a31",
   "metadata": {},
   "outputs": [],
   "source": [
    "# --- 5. Build & send one virtual spike to tag=core*256+neuron ---\n",
    "ts     = get_fpga_time(board) + 10000\n",
    "tag_id = core*256 + neuron\n",
    "vs     = VirtualSpikeConstructor(tag_id, [True,False,False,False], ts).spikes\n",
    "send_events(board, vs, min_delay=0)"
   ]
  },
  {
   "cell_type": "code",
   "execution_count": null,
   "id": "f7766ffd",
   "metadata": {},
   "outputs": [],
   "source": [
    "\n",
    "# --- 6. Read back & plot ---\n",
    "out = ([],[])\n",
    "get_events(board, extra_time=100, output_events=out)\n",
    "plot_raster(out)"
   ]
  },
  {
   "cell_type": "code",
   "execution_count": 15,
   "id": "b3dc02b3",
   "metadata": {},
   "outputs": [],
   "source": [
    "def plot_raster(output_events):\n",
    "    \"\"\"\n",
    "    Given output_events as a list-of-lists where output_events[i]\n",
    "    is the list of spike times (in µs) for neuron i, draw a raster.\n",
    "    \"\"\"\n",
    "    neuron_ids = []\n",
    "    spike_times = []\n",
    "    for neuron_id, times in enumerate(output_events):\n",
    "        neuron_ids.extend([neuron_id] * len(times))\n",
    "        spike_times.extend(times)\n",
    "\n",
    "    plt.figure(figsize=(10, 6))\n",
    "    plt.scatter(spike_times, neuron_ids, s=2)\n",
    "    plt.xlabel(\"Time (µs)\")\n",
    "    plt.ylabel(\"Neuron ID\")\n",
    "    plt.title(\"Neural Activity Raster Plot\")\n",
    "    plt.tight_layout()\n",
    "    plt.show()"
   ]
  },
  {
   "cell_type": "code",
   "execution_count": 16,
   "id": "36288e85",
   "metadata": {},
   "outputs": [],
   "source": [
    "def plot_neural_activity(output_events):\n",
    "    \"\"\"\n",
    "    Plots a raster of neural spike activity.\n",
    "    Assumes output_events is a list of [neuron_ids, spike_times].\n",
    "    \"\"\"\n",
    "    neuron_ids = []\n",
    "    spike_times = []\n",
    "    for i, neuron_spikes in enumerate(output_events):\n",
    "        for spike in neuron_spikes:\n",
    "            neuron_ids.append(i)\n",
    "            spike_times.append(spike)\n",
    "    plt.figure(figsize=(10, 6))\n",
    "    plt.scatter(spike_times, neuron_ids, s=2)\n",
    "    plt.xlabel(\"Time (us)\")\n",
    "    plt.ylabel(\"Neuron ID\")\n",
    "    plt.title(\"Neural Activity Raster Plot\")\n",
    "    plt.show()\n",
    "\n",
    "\n",
    "def config_latches(myConfig, adaptation):\n",
    "    # for each core, set the neuron to monitor\n",
    "    neuron = 3\n",
    "    for c in range(1):\n",
    "        myConfig.chips[0].cores[c].neuron_monitoring_on = True\n",
    "        myConfig.chips[0].cores[c].monitored_neuron = neuron\n",
    "        for n in range(160):\n",
    "            myConfig.chips[0].cores[c].neurons[n].latch_so_adaptation = adaptation\n",
    "\n",
    "\n",
    "def config_parameters(myConfig, delay, stp):\n",
    "    # set neuron parameters\n",
    "    for c in range(1):\n",
    "        set_parameter(myConfig.chips[0].cores[c].parameters, \"SOIF_GAIN_N\", 3, 80)\n",
    "        set_parameter(myConfig.chips[0].cores[c].parameters, \"SOIF_LEAK_N\", 0, 50)\n",
    "        set_parameter(myConfig.chips[0].cores[c].parameters, \"SOIF_REFR_N\", 1, 40)\n",
    "        set_parameter(myConfig.chips[0].cores[c].parameters, \"SOIF_DC_P\", 0, 1)\n",
    "        set_parameter(myConfig.chips[0].cores[c].parameters, \"SOIF_SPKTHR_P\", 3, 254)\n",
    "        set_parameter(myConfig.chips[0].cores[c].parameters, \"SOAD_PWTAU_N\", 3, 80)\n",
    "        set_parameter(myConfig.chips[0].cores[c].parameters, \"SOAD_GAIN_P\", 3, 80)\n",
    "        set_parameter(myConfig.chips[0].cores[c].parameters, \"SOAD_TAU_P\", 0, 10)\n",
    "        set_parameter(myConfig.chips[0].cores[c].parameters, \"SOAD_W_N\", 3, 80)\n",
    "        set_parameter(myConfig.chips[0].cores[c].parameters, \"SOAD_CASC_P\", 5, 254)\n",
    "\n",
    "    # set synapse parameters  -- enabled AM and SC\n",
    "    for c in range(1):\n",
    "        set_parameter(myConfig.chips[0].cores[c].parameters, 'DEAM_ETAU_P', 2, 40)\n",
    "        set_parameter(myConfig.chips[0].cores[c].parameters, 'DEAM_EGAIN_P', 3, 80)\n",
    "        set_parameter(myConfig.chips[0].cores[c].parameters, 'DENM_ETAU_P', 1, 80)\n",
    "        set_parameter(myConfig.chips[0].cores[c].parameters, 'DENM_EGAIN_P', 3, 80)\n",
    "        set_parameter(myConfig.chips[0].cores[c].parameters, 'DESC_ITAU_P', 1, 160)\n",
    "        set_parameter(myConfig.chips[0].cores[c].parameters, 'DESC_IGAIN_P', 4, 40)\n",
    "        set_parameter(myConfig.chips[0].cores[c].parameters, 'SYAM_W0_P', 4, 80)\n",
    "        set_parameter(myConfig.chips[0].cores[c].parameters, 'SYAM_W1_P', 5, 30)\n",
    "        set_parameter(myConfig.chips[0].cores[c].parameters, 'SYAM_W2_P', 5, 80)\n",
    "        set_parameter(myConfig.chips[0].cores[c].parameters, 'SYAM_W3_P', 4, 80)\n",
    "        set_parameter(myConfig.chips[0].cores[c].parameters, 'SYPD_EXT_N', 3, 200)\n",
    "        if delay:\n",
    "            set_parameter(myConfig.chips[0].cores[c].parameters, 'SYPD_DLY0_P', 0, 1)\n",
    "            set_parameter(myConfig.chips[0].cores[c].parameters, 'SYPD_DLY1_P', 5, 254)\n",
    "            set_parameter(myConfig.chips[0].cores[c].parameters, 'SYPD_DLY2_P', 0, 20)\n",
    "        if stp:\n",
    "            set_parameter(myConfig.chips[0].cores[c].parameters, 'SYAW_STDSTR_N', 0, 1)\n",
    "            set_parameter(myConfig.chips[0].cores[c].parameters, 'SYAM_STDW_N', 3, 80)\n",
    "\n",
    "\n",
    "def config_cams(myConfig, input_group_size, delay, stp):\n",
    "    # set CAM -- synapses\n",
    "    for c in range(1):\n",
    "        for i in range(256):\n",
    "            cams = [Dynapse2Synapse() for _ in range(64)]\n",
    "            for j in range(64):\n",
    "                weights = [False, False, False, False]\n",
    "                if i < 64 and j < 8:\n",
    "                    weights[0] = True\n",
    "                    cams[j].tag = random.randint(1024, 1023 + input_group_size)\n",
    "                    cams[j].dendrite = Dendrite.ampa\n",
    "                    cams[j].mismatched_delay = delay\n",
    "                    cams[j].stp = stp\n",
    "                elif i < 64 and 8 <= j < 32:\n",
    "                    weights[1] = True\n",
    "                    cams[j].tag = random.randint(0, 63)\n",
    "                    cams[j].dendrite = Dendrite.nmda\n",
    "                    cams[j].mismatched_delay = delay\n",
    "                elif i < 64 and 32 <= j < 64:\n",
    "                    weights[2] = True\n",
    "                    cams[j].tag = random.randint(160, 191)\n",
    "                    cams[j].dendrite = Dendrite.shunt\n",
    "                    cams[j].precise_delay = delay\n",
    "                elif 64 <= i < 128 and j < 8:\n",
    "                    weights[0] = True\n",
    "                    cams[j].tag = random.randint(1024 + input_group_size, 1023 + input_group_size * 2)\n",
    "                    cams[j].dendrite = Dendrite.ampa\n",
    "                    cams[j].mismatched_delay = delay\n",
    "                    cams[j].stp = stp\n",
    "                elif 64 <= i < 128 and 8 <= j < 32:\n",
    "                    weights[1] = True\n",
    "                    cams[j].tag = random.randint(64, 127)\n",
    "                    cams[j].dendrite = Dendrite.nmda\n",
    "                    cams[j].mismatched_delay = delay\n",
    "                elif 64 <= i < 128 and 32 <= j < 64:\n",
    "                    weights[2] = True\n",
    "                    cams[j].tag = random.randint(160, 191)\n",
    "                    cams[j].dendrite = Dendrite.shunt\n",
    "                    cams[j].precise_delay = delay\n",
    "                elif 160 <= i < 192 and j < 64:\n",
    "                    weights[3] = True\n",
    "                    cams[j].tag = random.randint(0, 127)\n",
    "                    cams[j].dendrite = Dendrite.nmda\n",
    "                    cams[j].mismatched_delay = delay\n",
    "                else:\n",
    "                    weights[0] = True\n",
    "                    cams[j].tag = 0\n",
    "                    cams[j].dendrite = Dendrite.none\n",
    "                cams[j].weight = weights\n",
    "            myConfig.chips[0].cores[c].neurons[i].synapses = cams\n",
    "\n",
    "\n",
    "def generate_events(board, group_size, input_events):\n",
    "    ts = get_fpga_time(board=board) + 1000000\n",
    "    for j in list(range(1024, 1024 + group_size + 1, group_size >> 2)) +\\\n",
    "             list(range(1024 + group_size, 1023, - (group_size >> 2))):\n",
    "        for t in range(ts, ts + 1000000, 100):\n",
    "            for k in range(j, j + group_size):\n",
    "                if random.random() < 0.01:\n",
    "                    input_events += VirtualSpikeConstructor(k, [True, False, False, False], t).spikes\n",
    "        ts += 1000000\n",
    "\n",
    "\n",
    "def wta_basic(board, number_of_chips, delay=True, adaptation=False, stp=False):\n",
    "\n",
    "    # your code starts here\n",
    "    input_group_size = 16\n",
    "\n",
    "    model = board.get_model()\n",
    "    model.reset(ResetType.PowerCycle, 0b1)\n",
    "    time.sleep(1)\n",
    "\n",
    "    myConfig = model.get_configuration()\n",
    "    model.apply_configuration(myConfig)\n",
    "    time.sleep(1)\n",
    "\n",
    "    print(\"Configuring latches\")\n",
    "    config_latches(myConfig, adaptation=adaptation)\n",
    "    model.apply_configuration(myConfig)\n",
    "    time.sleep(0.1)\n",
    "\n",
    "    print(\"Configuring paramrters\")\n",
    "    config_parameters(myConfig=myConfig, delay=delay, stp=stp)\n",
    "    model.apply_configuration(myConfig)\n",
    "    time.sleep(0.1)\n",
    "\n",
    "    print(\"Configuring cams\")\n",
    "    config_cams(myConfig=myConfig, input_group_size=input_group_size, delay=delay, stp=stp)\n",
    "    model.apply_configuration(myConfig)\n",
    "    time.sleep(0.1)\n",
    "\n",
    "    print(\"configuring srams\")\n",
    "    clear_srams(config=myConfig, neurons=range(256), cores=range(4), chips=range(number_of_chips), all_to_all=True)\n",
    "    model.apply_configuration(myConfig)\n",
    "    time.sleep(1)\n",
    "\n",
    "    print(\"\\nAll configurations done!\\n\")\n",
    "\n",
    "    input_events = []\n",
    "    generate_events(board, input_group_size, input_events)\n",
    "    send_events(board=board, events=input_events, min_delay=100000)\n",
    "    output_events = [[], []]\n",
    "    get_events(board=board, extra_time=100, output_events=output_events)\n",
    "    spike_count(output_events=output_events)\n",
    "    plot_raster(output_events=output_events)\n",
    "    plot_neural_activity(output_events)  # Add this line to plot neural activity"
   ]
  },
  {
   "cell_type": "code",
   "execution_count": null,
   "id": "eb7ea7be",
   "metadata": {},
   "outputs": [],
   "source": [
    "model = board.get_model()\n",
    "model.reset(ResetType.PowerCycle, 0b1)\n",
    "time.sleep(1)\n",
    "myConfig = model.get_configuration()\n",
    "model.apply_configuration(myConfig)\n"
   ]
  },
  {
   "cell_type": "code",
   "execution_count": null,
   "id": "37c1eaea",
   "metadata": {},
   "outputs": [],
   "source": [
    "config_latches(myConfig, adaptation=True)  # Set `True` if homeostatic adaptation is desired\n"
   ]
  },
  {
   "cell_type": "code",
   "execution_count": null,
   "id": "9cb95f24",
   "metadata": {},
   "outputs": [],
   "source": [
    "config_parameters(myConfig, delay=True, stp=True)  # Enable synaptic delay and short-term plasticity if desired\n"
   ]
  },
  {
   "cell_type": "code",
   "execution_count": null,
   "id": "4b9359c6",
   "metadata": {},
   "outputs": [],
   "source": [
    "config_cams(myConfig, input_group_size=16, delay=True, stp=True)\n"
   ]
  },
  {
   "cell_type": "code",
   "execution_count": null,
   "id": "809135d8",
   "metadata": {},
   "outputs": [],
   "source": [
    "clear_srams(config=myConfig, neurons=range(256), cores=range(4), chips=range(number_of_chips), all_to_all=True)\n"
   ]
  },
  {
   "cell_type": "code",
   "execution_count": null,
   "id": "f8c8bdf7",
   "metadata": {},
   "outputs": [],
   "source": [
    "input_events = []\n",
    "generate_events(board, group_size=16, input_events=input_events)\n"
   ]
  },
  {
   "cell_type": "code",
   "execution_count": null,
   "id": "d5a37837",
   "metadata": {},
   "outputs": [],
   "source": [
    "send_events(board=board, events=input_events, min_delay=100000)\n",
    "output_events = [[], []]\n",
    "get_events(board=board, extra_time=100, output_events=output_events)\n"
   ]
  },
  {
   "cell_type": "code",
   "execution_count": null,
   "id": "0898e276",
   "metadata": {},
   "outputs": [],
   "source": [
    "spike_count(output_events=output_events)\n",
    "plot_raster(output_events=output_events)\n"
   ]
  },
  {
   "cell_type": "code",
   "execution_count": 7,
   "id": "431871bb",
   "metadata": {},
   "outputs": [
    {
     "ename": "ModuleNotFoundError",
     "evalue": "No module named 'dynapse2_activity_plotter'",
     "output_type": "error",
     "traceback": [
      "\u001b[0;31m---------------------------------------------------------------------------\u001b[0m",
      "\u001b[0;31mModuleNotFoundError\u001b[0m                       Traceback (most recent call last)",
      "Cell \u001b[0;32mIn[7], line 1\u001b[0m\n\u001b[0;32m----> 1\u001b[0m \u001b[38;5;28;01mfrom\u001b[39;00m\u001b[38;5;250m \u001b[39m\u001b[38;5;21;01mdynapse2_activity_plotter\u001b[39;00m\u001b[38;5;250m \u001b[39m\u001b[38;5;28;01mimport\u001b[39;00m run_plotting_thread\n\u001b[1;32m      2\u001b[0m \u001b[38;5;66;03m# board = remote.Dynapse2Stack(…) after configuration…\u001b[39;00m\n\u001b[1;32m      3\u001b[0m board\u001b[38;5;241m.\u001b[39menable_output(BusId\u001b[38;5;241m.\u001b[39mGrid, \u001b[38;5;28;01mTrue\u001b[39;00m)\n",
      "\u001b[0;31mModuleNotFoundError\u001b[0m: No module named 'dynapse2_activity_plotter'"
     ]
    }
   ],
   "source": [
    "from dynapse2_activity_plotter import run_plotting_thread\n",
    "# board = remote.Dynapse2Stack(…) after configuration…\n",
    "board.enable_output(BusId.Grid, True)\n",
    "run_plotting_thread(board, refresh_rate=500, y_range=(0, 2048))\n"
   ]
  }
 ],
 "metadata": {
  "kernelspec": {
   "display_name": "dynapse2",
   "language": "python",
   "name": "python3"
  },
  "language_info": {
   "codemirror_mode": {
    "name": "ipython",
    "version": 3
   },
   "file_extension": ".py",
   "mimetype": "text/x-python",
   "name": "python",
   "nbconvert_exporter": "python",
   "pygments_lexer": "ipython3",
   "version": "3.9.21"
  }
 },
 "nbformat": 4,
 "nbformat_minor": 5
}
